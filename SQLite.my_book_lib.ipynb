{
 "cells": [
  {
   "cell_type": "markdown",
   "metadata": {},
   "source": [
    "# SQLite"
   ]
  },
  {
   "cell_type": "code",
   "execution_count": 4,
   "metadata": {},
   "outputs": [],
   "source": [
    "import sqlite3"
   ]
  },
  {
   "cell_type": "markdown",
   "metadata": {},
   "source": [
    "## CREATE TABLE"
   ]
  },
  {
   "cell_type": "code",
   "execution_count": 116,
   "metadata": {},
   "outputs": [
    {
     "name": "stdout",
     "output_type": "stream",
     "text": [
      "create_table is successfully completed\n"
     ]
    }
   ],
   "source": [
    "def create_table():\n",
    "    conn = sqlite3.connect('my_book_lib.db')\n",
    "    cur = conn.cursor()\n",
    "    \n",
    "    cur.execute('''CREATE TABLE my_book_lib (\n",
    "                    title             text,\n",
    "                    published_date    text,\n",
    "                    author            text,\n",
    "                    publisher         test,\n",
    "                    pages             integer\n",
    "                )'''\n",
    "               )\n",
    "    print(\"create_table is successfully completed\")\n",
    "    conn.commit()\n",
    "    conn.close() # connect close\n",
    "    \n",
    "if __name__ == \"__main__\":\n",
    "    create_table()"
   ]
  },
  {
   "cell_type": "markdown",
   "metadata": {},
   "source": [
    "# INSERT"
   ]
  },
  {
   "cell_type": "code",
   "execution_count": 117,
   "metadata": {},
   "outputs": [
    {
     "name": "stdout",
     "output_type": "stream",
     "text": [
      "insert_book is successfully completed\n"
     ]
    }
   ],
   "source": [
    "def insert_book():\n",
    "    conn = sqlite3.connect('my_book_lib.db') \n",
    "    cur = conn.cursor()  \n",
    "    \n",
    "    # data input (option 1)\n",
    "    cur.execute(\"\"\"INSERT INTO my_book_lib VALUES \n",
    "                   ('Deep Learning', '2016.11.18',\\\n",
    "                   'Ian Goodfellow', 'The MIT Press', 800)\n",
    "                \"\"\")\n",
    "    \n",
    "    # data input (option 2)\n",
    "    insert_sql = 'INSERT INTO my_book_lib VALUES (?, ?, ?, ?, ?)'\n",
    "    cur.execute(insert_sql, ('Machine Learning', '2018.01.01', 'Oliver Theobald','Independently published', 151))\n",
    "    \n",
    "    # data input (option 3)\n",
    "    books = [\n",
    "        ('Python for Data Analysis', 'Wes McKinney','2017.10.20', 'Reilly Media', 550),\n",
    "        ('Storytelling with Data', 'Cole Nussbaumer Knaflic','2015.11.02', 'Wiley', 288),\n",
    "        ('Data Science for Business!', 'Foster Provost','2017.02.03', 'Reilly Media', 414)\n",
    "    ]\n",
    "\n",
    "    cur.executemany(insert_sql, books)\n",
    "    print(\"insert_book is successfully completed\")\n",
    "    conn.commit()     \n",
    "    conn.close()       \n",
    "\n",
    "if __name__ == \"__main__\":\n",
    "    insert_book()               "
   ]
  },
  {
   "cell_type": "markdown",
   "metadata": {},
   "source": [
    "## SELECT"
   ]
  },
  {
   "cell_type": "markdown",
   "metadata": {},
   "source": [
    "### all"
   ]
  },
  {
   "cell_type": "code",
   "execution_count": 107,
   "metadata": {},
   "outputs": [
    {
     "name": "stdout",
     "output_type": "stream",
     "text": [
      "[1] Print the entire data\n",
      "type(books): <class 'list'> \n",
      "\n",
      "books: [('Deep Learning', '2016.11.18', 'Ian Goodfellow', 'The MIT Press', 800), ('Machine Learning', '2018.01.01', 'Oliver Theobald', 'Independently published', 151), ('Python for Data Analysis', 'Wes McKinney', '2017.10.20', 'Reilly Media', 550), ('Storytelling with Data', 'Cole Nussbaumer Knaflic', '2015.11.02', 'Wiley', 288), ('Data Science for Business!', 'Foster Provost', '2017.02.03', 'Reilly Media', 414)]\n",
      "\n",
      "('Deep Learning', '2016.11.18', 'Ian Goodfellow', 'The MIT Press', 800)\n",
      "('Machine Learning', '2018.01.01', 'Oliver Theobald', 'Independently published', 151)\n",
      "('Python for Data Analysis', 'Wes McKinney', '2017.10.20', 'Reilly Media', 550)\n",
      "('Storytelling with Data', 'Cole Nussbaumer Knaflic', '2015.11.02', 'Wiley', 288)\n",
      "('Data Science for Business!', 'Foster Provost', '2017.02.03', 'Reilly Media', 414)\n"
     ]
    }
   ],
   "source": [
    "def select_all_books():\n",
    "    conn = sqlite3.connect('my_book_lib.db')        \n",
    "    cur = conn.cursor()                         \n",
    "    cur.execute('SELECT * FROM my_book_lib')    \n",
    "\n",
    "    print('[1] Print the entire data')\n",
    "    books = cur.fetchall()                          \n",
    "    print('type(books):', type(books),\"\\n\")\n",
    "    print('books:', books)\n",
    "    print()\n",
    "\n",
    "    for book in books:    \n",
    "        print(book)\n",
    "\n",
    "    conn.close()                                    \n",
    "\n",
    "if __name__ == \"__main__\":\t\t                \n",
    "    select_all_books()                              "
   ]
  },
  {
   "cell_type": "markdown",
   "metadata": {},
   "source": [
    "### all items"
   ]
  },
  {
   "cell_type": "code",
   "execution_count": 108,
   "metadata": {},
   "outputs": [
    {
     "name": "stdout",
     "output_type": "stream",
     "text": [
      "Print the entire data\n",
      "('Deep Learning', '2016.11.18', 'Ian Goodfellow', 'The MIT Press', 800)\n",
      "- Deep Learning\n",
      "- 2016.11.18\n",
      "- Ian Goodfellow\n",
      "- The MIT Press\n",
      "- 800\n",
      "\n",
      "('Machine Learning', '2018.01.01', 'Oliver Theobald', 'Independently published', 151)\n",
      "- Machine Learning\n",
      "- 2018.01.01\n",
      "- Oliver Theobald\n",
      "- Independently published\n",
      "- 151\n",
      "\n",
      "('Python for Data Analysis', 'Wes McKinney', '2017.10.20', 'Reilly Media', 550)\n",
      "- Python for Data Analysis\n",
      "- Wes McKinney\n",
      "- 2017.10.20\n",
      "- Reilly Media\n",
      "- 550\n",
      "\n",
      "('Storytelling with Data', 'Cole Nussbaumer Knaflic', '2015.11.02', 'Wiley', 288)\n",
      "- Storytelling with Data\n",
      "- Cole Nussbaumer Knaflic\n",
      "- 2015.11.02\n",
      "- Wiley\n",
      "- 288\n",
      "\n",
      "('Data Science for Business!', 'Foster Provost', '2017.02.03', 'Reilly Media', 414)\n",
      "- Data Science for Business!\n",
      "- Foster Provost\n",
      "- 2017.02.03\n",
      "- Reilly Media\n",
      "- 414\n",
      "\n"
     ]
    }
   ],
   "source": [
    "def select_all_books():\n",
    "    conn = sqlite3.connect('my_book_lib.db')        \n",
    "    cur = conn.cursor()                         \n",
    "    cur.execute('SELECT * FROM my_book_lib')    \n",
    "\n",
    "    print('Print the entire data')\n",
    "    books = cur.fetchall()             # all                       \n",
    "\n",
    "    for book in books:    \n",
    "        print(book)\n",
    "        for item in book:              \n",
    "            print('-', item)\n",
    "        print()\n",
    "\n",
    "    conn.close()                                    \n",
    "\n",
    "if __name__ == \"__main__\":\t\t                \n",
    "    select_all_books()"
   ]
  },
  {
   "cell_type": "markdown",
   "metadata": {},
   "source": [
    "### partial"
   ]
  },
  {
   "cell_type": "code",
   "execution_count": 109,
   "metadata": {},
   "outputs": [
    {
     "name": "stdout",
     "output_type": "stream",
     "text": [
      "Print 2 Data\n",
      "('Deep Learning', '2016.11.18', 'Ian Goodfellow', 'The MIT Press', 800)\n",
      "('Machine Learning', '2018.01.01', 'Oliver Theobald', 'Independently published', 151)\n"
     ]
    }
   ],
   "source": [
    "def select_some_books(number):\n",
    "    conn = sqlite3.connect('my_book_lib.db')         \n",
    "    cur = conn.cursor()                         \n",
    "    cur.execute('SELECT * FROM my_book_lib')  \n",
    "\n",
    "    print('Print', number, 'Data')\n",
    "    books = cur.fetchmany(number)   # many                \n",
    "\n",
    "    for book in books:                             \n",
    "        print(book)\n",
    "\n",
    "    conn.close()                                   \n",
    "\n",
    "if __name__ == \"__main__\":\t\t                \n",
    "    select_some_books(2)                            "
   ]
  },
  {
   "cell_type": "markdown",
   "metadata": {},
   "source": [
    "### one"
   ]
  },
  {
   "cell_type": "code",
   "execution_count": 110,
   "metadata": {},
   "outputs": [
    {
     "name": "stdout",
     "output_type": "stream",
     "text": [
      "Print ONE Data\n",
      "('Deep Learning', '2016.11.18', 'Ian Goodfellow', 'The MIT Press', 800)\n"
     ]
    }
   ],
   "source": [
    "def select_one_book():\n",
    "    conn = sqlite3.connect('my_book_lib.db')     \n",
    "    cur = conn.cursor()                        \n",
    "\n",
    "    cur.execute('SELECT * FROM my_book_lib')    \n",
    "    print('Print ONE Data')\n",
    "    print(cur.fetchone())       # one                 \n",
    "    conn.close()                             \n",
    "\n",
    "if __name__ == \"__main__\":\t\t               \n",
    "    select_one_book()                          "
   ]
  },
  {
   "cell_type": "markdown",
   "metadata": {},
   "source": [
    "## WHERE"
   ]
  },
  {
   "cell_type": "code",
   "execution_count": 111,
   "metadata": {},
   "outputs": [
    {
     "name": "stdout",
     "output_type": "stream",
     "text": [
      "print think book\n",
      "('Deep Learning', 800)\n",
      "('Python for Data Analysis', 550)\n",
      "('Data Science for Business!', 414)\n"
     ]
    }
   ],
   "source": [
    "def find_thick_books():\n",
    "    conn = sqlite3.connect('my_book_lib.db')         \n",
    "    cur = conn.cursor()                             \n",
    "\n",
    "    cur.execute('SELECT title, pages FROM my_book_lib WHERE pages > 300')\n",
    "    print('print think book')\n",
    "    books = cur.fetchall()                          \n",
    "\n",
    "    for book in books:                              \n",
    "        print(book)\n",
    "        #print(book['title'])\n",
    "    conn.close()                                    \n",
    "\n",
    "if __name__ == \"__main__\":\t\t                \n",
    "    find_thick_books()                                "
   ]
  },
  {
   "cell_type": "markdown",
   "metadata": {},
   "source": [
    "## UPDATE"
   ]
  },
  {
   "cell_type": "code",
   "execution_count": 112,
   "metadata": {},
   "outputs": [
    {
     "name": "stdout",
     "output_type": "stream",
     "text": [
      "Print ONE Data\n",
      "('Deep Learning', '2016.11.18', 'Ian Goodfellow', 'The MIT Press', 800)\n",
      "update is completed  \n",
      "\n",
      "Print the entire data\n",
      "('Deep Learning', '2016.11.18', 'Ian Goodfellow', 'The MIT Press', 805)\n",
      "- Deep Learning\n",
      "- 2016.11.18\n",
      "- Ian Goodfellow\n",
      "- The MIT Press\n",
      "- 805\n",
      "\n",
      "('Machine Learning', '2018.01.01', 'Oliver Theobald', 'Independently published', 151)\n",
      "- Machine Learning\n",
      "- 2018.01.01\n",
      "- Oliver Theobald\n",
      "- Independently published\n",
      "- 151\n",
      "\n",
      "('Python for Data Analysis', 'Wes McKinney', '2017.10.20', 'Reilly Media', 550)\n",
      "- Python for Data Analysis\n",
      "- Wes McKinney\n",
      "- 2017.10.20\n",
      "- Reilly Media\n",
      "- 550\n",
      "\n",
      "('Storytelling with Data', 'Cole Nussbaumer Knaflic', '2015.11.02', 'Wiley', 288)\n",
      "- Storytelling with Data\n",
      "- Cole Nussbaumer Knaflic\n",
      "- 2015.11.02\n",
      "- Wiley\n",
      "- 288\n",
      "\n",
      "('Data Science for Business!', 'Foster Provost', '2017.02.03', 'Reilly Media', 414)\n",
      "- Data Science for Business!\n",
      "- Foster Provost\n",
      "- 2017.02.03\n",
      "- Reilly Media\n",
      "- 414\n",
      "\n"
     ]
    }
   ],
   "source": [
    "def update_book():\n",
    "    conn = sqlite3.connect('my_book_lib.db')       \n",
    "    cur = conn.cursor()  \n",
    "\n",
    "    update_sql = '''UPDATE my_book_lib SET pages = ? \n",
    "                    WHERE title = ?\n",
    "                 '''\n",
    "    # 수정 SQL 실행\n",
    "    cur.execute(update_sql, (805, 'Deep Learning'))\n",
    "    conn.commit()                                   \n",
    "    conn.close()                                 \n",
    "\n",
    "if __name__ == \"__main__\":              \n",
    "    select_one_book()\n",
    "    update_book()                               \n",
    "    print('update is completed ', \"\\n\")\n",
    "    select_all_book()"
   ]
  },
  {
   "cell_type": "markdown",
   "metadata": {},
   "source": [
    "## DELETE"
   ]
  },
  {
   "cell_type": "code",
   "execution_count": 113,
   "metadata": {},
   "outputs": [
    {
     "name": "stdout",
     "output_type": "stream",
     "text": [
      "Print the entire data\n",
      "('Deep Learning', '2016.11.18', 'Ian Goodfellow', 'The MIT Press', 805)\n",
      "- Deep Learning\n",
      "- 2016.11.18\n",
      "- Ian Goodfellow\n",
      "- The MIT Press\n",
      "- 805\n",
      "\n",
      "('Machine Learning', '2018.01.01', 'Oliver Theobald', 'Independently published', 151)\n",
      "- Machine Learning\n",
      "- 2018.01.01\n",
      "- Oliver Theobald\n",
      "- Independently published\n",
      "- 151\n",
      "\n",
      "('Python for Data Analysis', 'Wes McKinney', '2017.10.20', 'Reilly Media', 550)\n",
      "- Python for Data Analysis\n",
      "- Wes McKinney\n",
      "- 2017.10.20\n",
      "- Reilly Media\n",
      "- 550\n",
      "\n",
      "('Storytelling with Data', 'Cole Nussbaumer Knaflic', '2015.11.02', 'Wiley', 288)\n",
      "- Storytelling with Data\n",
      "- Cole Nussbaumer Knaflic\n",
      "- 2015.11.02\n",
      "- Wiley\n",
      "- 288\n",
      "\n",
      "('Data Science for Business!', 'Foster Provost', '2017.02.03', 'Reilly Media', 414)\n",
      "- Data Science for Business!\n",
      "- Foster Provost\n",
      "- 2017.02.03\n",
      "- Reilly Media\n",
      "- 414\n",
      "\n",
      "Delete is compeleted\n",
      "Print the entire data\n",
      "('Deep Learning', '2016.11.18', 'Ian Goodfellow', 'The MIT Press', 805)\n",
      "- Deep Learning\n",
      "- 2016.11.18\n",
      "- Ian Goodfellow\n",
      "- The MIT Press\n",
      "- 805\n",
      "\n",
      "('Machine Learning', '2018.01.01', 'Oliver Theobald', 'Independently published', 151)\n",
      "- Machine Learning\n",
      "- 2018.01.01\n",
      "- Oliver Theobald\n",
      "- Independently published\n",
      "- 151\n",
      "\n",
      "('Python for Data Analysis', 'Wes McKinney', '2017.10.20', 'Reilly Media', 550)\n",
      "- Python for Data Analysis\n",
      "- Wes McKinney\n",
      "- 2017.10.20\n",
      "- Reilly Media\n",
      "- 550\n",
      "\n",
      "('Data Science for Business!', 'Foster Provost', '2017.02.03', 'Reilly Media', 414)\n",
      "- Data Science for Business!\n",
      "- Foster Provost\n",
      "- 2017.02.03\n",
      "- Reilly Media\n",
      "- 414\n",
      "\n"
     ]
    }
   ],
   "source": [
    "def delete_book():\n",
    "    conn = sqlite3.connect('my_book_lib.db')     \n",
    "    cur = conn.cursor()                     \n",
    "\n",
    "    delete_sql = \"DELETE FROM my_book_lib WHERE publisher = 'Wiley'\"\n",
    "\n",
    "    cur.execute(delete_sql)\n",
    "    conn.commit()                               \n",
    "    conn.close() \n",
    "    \n",
    "if __name__ == \"__main__\":                \n",
    "    select_all_books()                         \n",
    "    delete_book()\n",
    "    print('Delete is compeleted')\n",
    "    select_all_books()    "
   ]
  },
  {
   "cell_type": "code",
   "execution_count": 114,
   "metadata": {},
   "outputs": [
    {
     "name": "stdout",
     "output_type": "stream",
     "text": [
      "Print the entire data\n",
      "('Deep Learning', '2016.11.18', 'Ian Goodfellow', 'The MIT Press', 805)\n",
      "- Deep Learning\n",
      "- 2016.11.18\n",
      "- Ian Goodfellow\n",
      "- The MIT Press\n",
      "- 805\n",
      "\n",
      "('Machine Learning', '2018.01.01', 'Oliver Theobald', 'Independently published', 151)\n",
      "- Machine Learning\n",
      "- 2018.01.01\n",
      "- Oliver Theobald\n",
      "- Independently published\n",
      "- 151\n",
      "\n",
      "('Python for Data Analysis', 'Wes McKinney', '2017.10.20', 'Reilly Media', 550)\n",
      "- Python for Data Analysis\n",
      "- Wes McKinney\n",
      "- 2017.10.20\n",
      "- Reilly Media\n",
      "- 550\n",
      "\n",
      "('Data Science for Business!', 'Foster Provost', '2017.02.03', 'Reilly Media', 414)\n",
      "- Data Science for Business!\n",
      "- Foster Provost\n",
      "- 2017.02.03\n",
      "- Reilly Media\n",
      "- 414\n",
      "\n",
      "\n",
      "[All data is deleted]\n",
      "Print the entire data\n"
     ]
    }
   ],
   "source": [
    "def delete_books():\n",
    "    conn = sqlite3.connect('my_book_lib.db')     \n",
    "    cur = conn.cursor()  \n",
    "    \n",
    "    delete_sql = 'DELETE FROM my_book_lib'\n",
    "    cur.execute(delete_sql)\n",
    "    conn.commit()                               \n",
    "    conn.close()                                \n",
    "\n",
    "if __name__ == \"__main__\":\t\t                \n",
    "    select_all_books()\n",
    "    print()\n",
    "    delete_books()                              \n",
    "    print('[All data is deleted]')\n",
    "    select_all_books()                          "
   ]
  },
  {
   "cell_type": "code",
   "execution_count": null,
   "metadata": {},
   "outputs": [],
   "source": []
  }
 ],
 "metadata": {
  "kernelspec": {
   "display_name": "Python 3",
   "language": "python",
   "name": "python3"
  },
  "language_info": {
   "codemirror_mode": {
    "name": "ipython",
    "version": 3
   },
   "file_extension": ".py",
   "mimetype": "text/x-python",
   "name": "python",
   "nbconvert_exporter": "python",
   "pygments_lexer": "ipython3",
   "version": "3.7.0"
  },
  "latex_envs": {
   "LaTeX_envs_menu_present": true,
   "autoclose": false,
   "autocomplete": true,
   "bibliofile": "biblio.bib",
   "cite_by": "apalike",
   "current_citInitial": 1,
   "eqLabelWithNumbers": true,
   "eqNumInitial": 1,
   "hotkeys": {
    "equation": "Ctrl-E",
    "itemize": "Ctrl-I"
   },
   "labels_anchors": false,
   "latex_user_defs": false,
   "report_style_numbering": false,
   "user_envs_cfg": false
  },
  "varInspector": {
   "cols": {
    "lenName": 16,
    "lenType": 16,
    "lenVar": 40
   },
   "kernels_config": {
    "python": {
     "delete_cmd_postfix": "",
     "delete_cmd_prefix": "del ",
     "library": "var_list.py",
     "varRefreshCmd": "print(var_dic_list())"
    },
    "r": {
     "delete_cmd_postfix": ") ",
     "delete_cmd_prefix": "rm(",
     "library": "var_list.r",
     "varRefreshCmd": "cat(var_dic_list()) "
    }
   },
   "types_to_exclude": [
    "module",
    "function",
    "builtin_function_or_method",
    "instance",
    "_Feature"
   ],
   "window_display": false
  }
 },
 "nbformat": 4,
 "nbformat_minor": 2
}
