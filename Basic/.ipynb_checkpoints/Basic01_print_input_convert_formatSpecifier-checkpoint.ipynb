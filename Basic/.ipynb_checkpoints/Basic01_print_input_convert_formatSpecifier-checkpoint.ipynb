{
 "cells": [
  {
   "cell_type": "markdown",
   "metadata": {},
   "source": [
    "# print"
   ]
  },
  {
   "cell_type": "code",
   "execution_count": 22,
   "metadata": {},
   "outputs": [
    {
     "name": "stdout",
     "output_type": "stream",
     "text": [
      "1\n",
      "1\n",
      "1\n"
     ]
    }
   ],
   "source": [
    "print(1)\n",
    "print('1') \n",
    "print(\"1\")"
   ]
  },
  {
   "cell_type": "code",
   "execution_count": 23,
   "metadata": {},
   "outputs": [
    {
     "name": "stdout",
     "output_type": "stream",
     "text": [
      "abc\n",
      "가나다\n"
     ]
    }
   ],
   "source": [
    "print(\"abc\")\n",
    "print('가나다')"
   ]
  },
  {
   "cell_type": "code",
   "execution_count": 24,
   "metadata": {},
   "outputs": [
    {
     "name": "stdout",
     "output_type": "stream",
     "text": [
      "\n",
      "3\n",
      "1+2\n"
     ]
    }
   ],
   "source": [
    "print()\n",
    "print(1+2)\n",
    "print(\"1+2\")"
   ]
  },
  {
   "cell_type": "code",
   "execution_count": 25,
   "metadata": {},
   "outputs": [
    {
     "name": "stdout",
     "output_type": "stream",
     "text": [
      "3=1+2\n"
     ]
    }
   ],
   "source": [
    "print(1+2, end='=')\n",
    "print(\"1+2\")"
   ]
  },
  {
   "cell_type": "code",
   "execution_count": 26,
   "metadata": {},
   "outputs": [
    {
     "name": "stdout",
     "output_type": "stream",
     "text": [
      "abc\n",
      "abc\n",
      "abc\n",
      "abc\n",
      "a b c\n"
     ]
    }
   ],
   "source": [
    "print(\"abc\")\n",
    "print(\"a\"\"b\"\"c\") \n",
    "print(\"a\" \"b\" \"c\") \n",
    "print(\"a\"+\"b\"+\"c\") \n",
    "\n",
    "# add a blank b/w text\n",
    "print(\"a\",\"b\",\"c\") "
   ]
  },
  {
   "cell_type": "code",
   "execution_count": 27,
   "metadata": {},
   "outputs": [
    {
     "name": "stdout",
     "output_type": "stream",
     "text": [
      "a+b\n",
      "30\n"
     ]
    }
   ],
   "source": [
    "a = 1\n",
    "b = 2\n",
    "a = 10\n",
    "b = 20\n",
    "print('a+b')\n",
    "print(a+b)"
   ]
  },
  {
   "cell_type": "code",
   "execution_count": 28,
   "metadata": {},
   "outputs": [
    {
     "name": "stdout",
     "output_type": "stream",
     "text": [
      "10 + 2 = 12\n",
      "10 + 20 = 30\n",
      "a * b = 200\n"
     ]
    }
   ],
   "source": [
    "print(\"10 + 2 = 12\")\n",
    "print(a, \"+\", b, \"=\", a+b) \n",
    "print('a * b =', a*b)"
   ]
  },
  {
   "cell_type": "code",
   "execution_count": null,
   "metadata": {},
   "outputs": [],
   "source": []
  },
  {
   "cell_type": "code",
   "execution_count": null,
   "metadata": {},
   "outputs": [],
   "source": [
    "print('가나다')"
   ]
  },
  {
   "cell_type": "code",
   "execution_count": 30,
   "metadata": {},
   "outputs": [
    {
     "name": "stdout",
     "output_type": "stream",
     "text": [
      "a: 1\n"
     ]
    }
   ],
   "source": [
    "a = 1\n",
    "print('a:', a)"
   ]
  },
  {
   "cell_type": "code",
   "execution_count": 31,
   "metadata": {},
   "outputs": [
    {
     "name": "stdout",
     "output_type": "stream",
     "text": [
      "a: python\n"
     ]
    }
   ],
   "source": [
    "a = 'python' \n",
    "print('a:', a)"
   ]
  },
  {
   "cell_type": "code",
   "execution_count": 32,
   "metadata": {},
   "outputs": [
    {
     "name": "stdout",
     "output_type": "stream",
     "text": [
      "a: 2\n"
     ]
    }
   ],
   "source": [
    "b = 2; \n",
    "a = b\n",
    "print('a:', a)"
   ]
  },
  {
   "cell_type": "code",
   "execution_count": null,
   "metadata": {},
   "outputs": [],
   "source": [
    "b = 2;\n",
    "a = 'b'\n",
    "print('a:', a)"
   ]
  },
  {
   "cell_type": "markdown",
   "metadata": {},
   "source": [
    "# input"
   ]
  },
  {
   "cell_type": "code",
   "execution_count": 9,
   "metadata": {},
   "outputs": [
    {
     "name": "stdout",
     "output_type": "stream",
     "text": [
      "11111\n",
      "c: 11111\n"
     ]
    }
   ],
   "source": [
    "c = input()         # input different values every execution\n",
    "print('c:', c) "
   ]
  },
  {
   "cell_type": "code",
   "execution_count": 10,
   "metadata": {},
   "outputs": [
    {
     "name": "stdout",
     "output_type": "stream",
     "text": [
      "enter a value\n",
      "22222\n",
      "d: 22222\n"
     ]
    }
   ],
   "source": [
    "print('enter a value')\n",
    "d = input()      \n",
    "print('d:',d)"
   ]
  },
  {
   "cell_type": "code",
   "execution_count": 11,
   "metadata": {},
   "outputs": [
    {
     "name": "stdout",
     "output_type": "stream",
     "text": [
      "c+d =  1111122222\n"
     ]
    }
   ],
   "source": [
    "print('c+d = ', c+d)\n",
    "# Recognize input value as 'character', not numbers"
   ]
  },
  {
   "cell_type": "markdown",
   "metadata": {},
   "source": [
    "# convert"
   ]
  },
  {
   "cell_type": "code",
   "execution_count": 12,
   "metadata": {},
   "outputs": [
    {
     "name": "stdout",
     "output_type": "stream",
     "text": [
      "c+d =  33333\n"
     ]
    }
   ],
   "source": [
    "c = int(c) \n",
    "d = int(d) \n",
    "print('c+d = ', c+d) # 11111 + 22222"
   ]
  },
  {
   "cell_type": "code",
   "execution_count": 16,
   "metadata": {},
   "outputs": [
    {
     "name": "stdout",
     "output_type": "stream",
     "text": [
      "enter an integer: 3\n"
     ]
    }
   ],
   "source": [
    "d = int(input('enter an integer: ')) # Only an integer is allowed"
   ]
  },
  {
   "cell_type": "code",
   "execution_count": 18,
   "metadata": {},
   "outputs": [
    {
     "name": "stdout",
     "output_type": "stream",
     "text": [
      "enter an integer: \n",
      "1\n",
      "c: 1\n"
     ]
    }
   ],
   "source": [
    "print('enter an integer: ')\n",
    "c = input()       # 매번 다른 값을 실행 중에 입력받고 싶을 때\n",
    "print('c:',c)"
   ]
  },
  {
   "cell_type": "code",
   "execution_count": 19,
   "metadata": {},
   "outputs": [
    {
     "name": "stdout",
     "output_type": "stream",
     "text": [
      "enter an integer: 2\n",
      "c: 2\n"
     ]
    }
   ],
   "source": [
    "print('enter an integer: ', end='')\n",
    "c = input()       # 매번 다른 값을 실행 중에 입력받고 싶을 때\n",
    "print('c:',c)"
   ]
  },
  {
   "cell_type": "markdown",
   "metadata": {},
   "source": [
    "# format specifier "
   ]
  },
  {
   "cell_type": "code",
   "execution_count": 20,
   "metadata": {},
   "outputs": [
    {
     "name": "stdout",
     "output_type": "stream",
     "text": [
      "10-3=7\n",
      "10 3 7\n"
     ]
    }
   ],
   "source": [
    "print(\"10-3=7\")\n",
    "\n",
    "print(10,3,7) "
   ]
  },
  {
   "cell_type": "code",
   "execution_count": 22,
   "metadata": {},
   "outputs": [
    {
     "name": "stdout",
     "output_type": "stream",
     "text": [
      "10 - 3 = 7\n"
     ]
    }
   ],
   "source": [
    "print('%d - %d = %d' % (10, 3, 7)) "
   ]
  },
  {
   "cell_type": "code",
   "execution_count": 23,
   "metadata": {},
   "outputs": [
    {
     "name": "stdout",
     "output_type": "stream",
     "text": [
      "10 - 3 = 7\n"
     ]
    }
   ],
   "source": [
    "print('%d - %d = %d' % (10, 3, 10-3))"
   ]
  },
  {
   "cell_type": "code",
   "execution_count": 25,
   "metadata": {},
   "outputs": [
    {
     "name": "stdout",
     "output_type": "stream",
     "text": [
      "10 / 3 = 3\n",
      "10 / 3 = 3.333333\n",
      "10 / 3 = 3.33\n"
     ]
    }
   ],
   "source": [
    "print('%d / %d = %d' % (10, 3, 10/3)) # integer\n",
    "print('%d / %d = %f' % (10, 3, 10/3)) # %f (decimal fixed point) // six digits after decimal points\n",
    "print('%d / %d = %.2f' % (10, 3, 10/3)) # %.2 // two digits after decimal points"
   ]
  },
  {
   "cell_type": "code",
   "execution_count": 32,
   "metadata": {},
   "outputs": [
    {
     "name": "stdout",
     "output_type": "stream",
     "text": [
      "input for Num1:2\n",
      "input for Num2:3\n"
     ]
    }
   ],
   "source": [
    "# Exercise\n",
    "\n",
    "su1 = int(input(\"input for Num1:\")) \n",
    "su2 = int(input(\"input for Num2:\"))"
   ]
  },
  {
   "cell_type": "code",
   "execution_count": 34,
   "metadata": {},
   "outputs": [
    {
     "name": "stdout",
     "output_type": "stream",
     "text": [
      "2 + 3 = 5\n",
      "2 + 3 = 5\n",
      "2 - 3 = -1\n",
      "2 * 3 = 6\n",
      "2 / 3 = 0.666667\n",
      "2 / 3 = 0.667\n"
     ]
    }
   ],
   "source": [
    "print(su1, \"+\", su2, \"=\", su1+su2)\n",
    "\n",
    "print('%d + %d = %d' % (su1, su2, su1+su2)) \n",
    "print('%d - %d = %d' % (su1, su2, su1-su2)) \n",
    "print('%d * %d = %d' % (su1, su2, su1*su2))\n",
    "print('%d / %d = %f' % (su1, su2, su1/su2))\n",
    "print('%d / %d = %.3f' % (su1, su2, su1/su2)) "
   ]
  },
  {
   "cell_type": "code",
   "execution_count": null,
   "metadata": {},
   "outputs": [],
   "source": []
  }
 ],
 "metadata": {
  "kernelspec": {
   "display_name": "Python 3",
   "language": "python",
   "name": "python3"
  },
  "language_info": {
   "codemirror_mode": {
    "name": "ipython",
    "version": 3
   },
   "file_extension": ".py",
   "mimetype": "text/x-python",
   "name": "python",
   "nbconvert_exporter": "python",
   "pygments_lexer": "ipython3",
   "version": "3.7.0"
  },
  "latex_envs": {
   "LaTeX_envs_menu_present": true,
   "autoclose": false,
   "autocomplete": true,
   "bibliofile": "biblio.bib",
   "cite_by": "apalike",
   "current_citInitial": 1,
   "eqLabelWithNumbers": true,
   "eqNumInitial": 1,
   "hotkeys": {
    "equation": "Ctrl-E",
    "itemize": "Ctrl-I"
   },
   "labels_anchors": false,
   "latex_user_defs": false,
   "report_style_numbering": false,
   "user_envs_cfg": false
  },
  "toc": {
   "base_numbering": 1,
   "nav_menu": {},
   "number_sections": true,
   "sideBar": true,
   "skip_h1_title": false,
   "title_cell": "Table of Contents",
   "title_sidebar": "Contents",
   "toc_cell": false,
   "toc_position": {},
   "toc_section_display": true,
   "toc_window_display": true
  },
  "varInspector": {
   "cols": {
    "lenName": 16,
    "lenType": 16,
    "lenVar": 40
   },
   "kernels_config": {
    "python": {
     "delete_cmd_postfix": "",
     "delete_cmd_prefix": "del ",
     "library": "var_list.py",
     "varRefreshCmd": "print(var_dic_list())"
    },
    "r": {
     "delete_cmd_postfix": ") ",
     "delete_cmd_prefix": "rm(",
     "library": "var_list.r",
     "varRefreshCmd": "cat(var_dic_list()) "
    }
   },
   "types_to_exclude": [
    "module",
    "function",
    "builtin_function_or_method",
    "instance",
    "_Feature"
   ],
   "window_display": false
  }
 },
 "nbformat": 4,
 "nbformat_minor": 2
}
