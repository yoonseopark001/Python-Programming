{
 "cells": [
  {
   "cell_type": "markdown",
   "metadata": {},
   "source": [
    "# Programming Exercise: Eng-Kor Dictionary"
   ]
  },
  {
   "cell_type": "markdown",
   "metadata": {},
   "source": [
    "d = {'cat' : '고양이','fish' : '물고기','pig' : '돼지', 'bird' : '새'}  \n",
    "Enter a word in English: (Type 'stop' for quit): fish  \n",
    "The word is 물고기 in Korean.\n",
    "\n",
    "Enter a word: (Type 'stop' for quit): dog  \n",
    "No words found.\n",
    "\n",
    "Enter a word: (Type 'stop' for quit): sTOp  \n",
    "Finished."
   ]
  },
  {
   "cell_type": "code",
   "execution_count": 9,
   "metadata": {},
   "outputs": [
    {
     "name": "stdout",
     "output_type": "stream",
     "text": [
      "Enter a word in English: (Type <stop> for quit)  cat\n",
      "The word is 고양이 in Korean.\n",
      "\n",
      "Enter a word in English: (Type <stop> for quit)  Cat\n",
      "The word is 고양이 in Korean.\n",
      "\n",
      "Enter a word in English: (Type <stop> for quit)  dog\n",
      "No words found.\n",
      "\n",
      "Enter a word in English: (Type <stop> for quit)  BIRD\n",
      "The word is 새 in Korean.\n",
      "\n",
      "Enter a word in English: (Type <stop> for quit)  sTop\n",
      "Finished.\n"
     ]
    }
   ],
   "source": [
    "d = {'cat':'고양이','fish':'물고기','pig': '돼지', 'bird': '새'}\n",
    "\n",
    "while True:\n",
    "    word = input('Enter a word in English: (Type <stop> for quit)  ')\n",
    "    if word.lower() == 'stop':\n",
    "        break\n",
    "    if word.lower() in d:\n",
    "        print('The word is', (d[word.lower()]), 'in Korean.' '\\n')\n",
    "    else:\n",
    "        print('No words found.')\n",
    "        print()\n",
    "\n",
    "print('Finished.')"
   ]
  },
  {
   "cell_type": "code",
   "execution_count": null,
   "metadata": {},
   "outputs": [],
   "source": []
  }
 ],
 "metadata": {
  "kernelspec": {
   "display_name": "Python 3",
   "language": "python",
   "name": "python3"
  },
  "language_info": {
   "codemirror_mode": {
    "name": "ipython",
    "version": 3
   },
   "file_extension": ".py",
   "mimetype": "text/x-python",
   "name": "python",
   "nbconvert_exporter": "python",
   "pygments_lexer": "ipython3",
   "version": "3.7.0"
  }
 },
 "nbformat": 4,
 "nbformat_minor": 2
}
